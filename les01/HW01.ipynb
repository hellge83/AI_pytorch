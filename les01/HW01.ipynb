{
 "cells": [
  {
   "cell_type": "code",
   "execution_count": 1,
   "id": "08af1e17",
   "metadata": {},
   "outputs": [],
   "source": [
    "import torch"
   ]
  },
  {
   "cell_type": "markdown",
   "id": "92396207",
   "metadata": {},
   "source": [
    "### task 1"
   ]
  },
  {
   "cell_type": "code",
   "execution_count": 12,
   "id": "522cafeb",
   "metadata": {},
   "outputs": [],
   "source": [
    "def find_x_derivative(x, y):\n",
    "\n",
    "    x = torch.tensor(x, dtype=float, requires_grad=True)\n",
    "\n",
    "    y = torch.tensor(y, dtype=float, requires_grad=True)\n",
    "\n",
    "    out = torch.sin(torch.tan(x)*(x*x/y) + torch.log( torch.exp(-x*x+3) + x*x*x*y) ) * torch.tan( x*x*(torch.exp(x**9)) )\n",
    "\n",
    "    out.sum().backward()   \n",
    "\n",
    "    return x.grad"
   ]
  },
  {
   "cell_type": "code",
   "execution_count": 13,
   "id": "c3a112c3",
   "metadata": {},
   "outputs": [
    {
     "data": {
      "text/plain": [
       "tensor(-16.5969, dtype=torch.float64)"
      ]
     },
     "execution_count": 13,
     "metadata": {},
     "output_type": "execute_result"
    }
   ],
   "source": [
    "find_x_derivative(1, 1)"
   ]
  },
  {
   "cell_type": "code",
   "execution_count": 17,
   "id": "cecb3990",
   "metadata": {},
   "outputs": [
    {
     "data": {
      "text/plain": [
       "tensor([[-0.7138,  0.7017, -2.2010, -1.6439],\n",
       "        [-1.8787, -2.1259, -0.5690,  1.5504],\n",
       "        [ 0.0221,  0.3885,  0.3155, -1.4267],\n",
       "        [ 0.1993, -0.8237,  0.0617, -0.6981]])"
      ]
     },
     "execution_count": 17,
     "metadata": {},
     "output_type": "execute_result"
    }
   ],
   "source": [
    "A = torch.randn(4, 4)\n",
    "A.numpy()\n",
    "A"
   ]
  },
  {
   "cell_type": "code",
   "execution_count": 18,
   "id": "f9998099",
   "metadata": {},
   "outputs": [
    {
     "data": {
      "text/plain": [
       "tensor([[ 0.2868,  1.0175, -0.5710,  0.4376],\n",
       "        [ 0.9344, -0.9070,  0.1475,  0.3751],\n",
       "        [-0.6005,  0.4141,  0.5256, -0.7998],\n",
       "        [ 0.3191,  1.0637, -2.3544,  1.8850]])"
      ]
     },
     "execution_count": 18,
     "metadata": {},
     "output_type": "execute_result"
    }
   ],
   "source": [
    "B = torch.randn(4, 4)\n",
    "B.numpy()\n",
    "B"
   ]
  },
  {
   "cell_type": "code",
   "execution_count": 19,
   "id": "a0203cc1",
   "metadata": {},
   "outputs": [
    {
     "name": "stderr",
     "output_type": "stream",
     "text": [
      "C:\\Users\\snetkova\\Anaconda3\\lib\\site-packages\\ipykernel_launcher.py:3: UserWarning: To copy construct from a tensor, it is recommended to use sourceTensor.clone().detach() or sourceTensor.clone().detach().requires_grad_(True), rather than torch.tensor(sourceTensor).\n",
      "  This is separate from the ipykernel package so we can avoid doing imports until\n",
      "C:\\Users\\snetkova\\Anaconda3\\lib\\site-packages\\ipykernel_launcher.py:5: UserWarning: To copy construct from a tensor, it is recommended to use sourceTensor.clone().detach() or sourceTensor.clone().detach().requires_grad_(True), rather than torch.tensor(sourceTensor).\n",
      "  \"\"\"\n"
     ]
    },
    {
     "data": {
      "text/plain": [
       "tensor([[ 1.6581e+00,  3.2120e-02,  0.0000e+00,         nan],\n",
       "        [        nan,  0.0000e+00, -2.6308e-01,  1.9314e+26],\n",
       "        [ 6.2909e-03,  4.8004e-02,  1.1512e-01, -4.5745e-09],\n",
       "        [ 6.2620e-02, -4.2475e-01,  1.8371e-02, -1.9586e+00]],\n",
       "       dtype=torch.float64)"
      ]
     },
     "execution_count": 19,
     "metadata": {},
     "output_type": "execute_result"
    }
   ],
   "source": [
    "find_x_derivative(A, B)"
   ]
  },
  {
   "cell_type": "code",
   "execution_count": null,
   "id": "9b890bb3",
   "metadata": {},
   "outputs": [],
   "source": []
  },
  {
   "cell_type": "code",
   "execution_count": null,
   "id": "23138472",
   "metadata": {},
   "outputs": [],
   "source": []
  },
  {
   "cell_type": "markdown",
   "id": "d0f66f99",
   "metadata": {},
   "source": [
    "### task 2"
   ]
  },
  {
   "cell_type": "code",
   "execution_count": 4,
   "id": "cff45dc8",
   "metadata": {},
   "outputs": [],
   "source": [
    "def get_cos_sim(A, B):\n",
    "    A = torch.tensor(A, dtype = float)\n",
    "    B = torch.tensor(B, dtype = float)\n",
    "    B = B.t()\n",
    "    \n",
    "    norm_a = torch.norm(A, dim=1)\n",
    "    norm_b = torch.norm(B, dim=0)\n",
    "\n",
    "    A = A / norm_a\n",
    "    B = B / norm_b\n",
    "    B = B.t()\n",
    "\n",
    "    return torch.mm(A, B)"
   ]
  },
  {
   "cell_type": "code",
   "execution_count": 5,
   "id": "b2d1b773",
   "metadata": {},
   "outputs": [
    {
     "data": {
      "text/plain": [
       "tensor([[-2.9841, -1.1702, -1.7206,  0.2242],\n",
       "        [-2.2058, -0.8907, -1.5710, -1.8708],\n",
       "        [ 0.7357,  0.9326, -0.0991, -2.7605],\n",
       "        [-0.5001,  0.2140, -0.8730,  1.0062]])"
      ]
     },
     "execution_count": 5,
     "metadata": {},
     "output_type": "execute_result"
    }
   ],
   "source": [
    "A = torch.randn(4, 4)\n",
    "A.numpy()\n",
    "A"
   ]
  },
  {
   "cell_type": "code",
   "execution_count": 6,
   "id": "d2982633",
   "metadata": {},
   "outputs": [
    {
     "data": {
      "text/plain": [
       "tensor([[-1.5335, -0.3337, -0.0781, -0.5195],\n",
       "        [-0.5484,  0.1746,  0.8787, -0.2009],\n",
       "        [-1.4641,  0.0897,  1.0243,  0.2871],\n",
       "        [-0.3847, -0.1009,  0.7416, -0.8093]])"
      ]
     },
     "execution_count": 6,
     "metadata": {},
     "output_type": "execute_result"
    }
   ],
   "source": [
    "B = torch.randn(4, 4)\n",
    "B.numpy()\n",
    "B"
   ]
  },
  {
   "cell_type": "code",
   "execution_count": 7,
   "id": "7a568180",
   "metadata": {},
   "outputs": [
    {
     "name": "stderr",
     "output_type": "stream",
     "text": [
      "C:\\Users\\snetkova\\Anaconda3\\lib\\site-packages\\ipykernel_launcher.py:2: UserWarning: To copy construct from a tensor, it is recommended to use sourceTensor.clone().detach() or sourceTensor.clone().detach().requires_grad_(True), rather than torch.tensor(sourceTensor).\n",
      "  \n",
      "C:\\Users\\snetkova\\Anaconda3\\lib\\site-packages\\ipykernel_launcher.py:3: UserWarning: To copy construct from a tensor, it is recommended to use sourceTensor.clone().detach() or sourceTensor.clone().detach().requires_grad_(True), rather than torch.tensor(sourceTensor).\n",
      "  This is separate from the ipykernel package so we can avoid doing imports until\n"
     ]
    },
    {
     "data": {
      "text/plain": [
       "tensor([[ 1.3456,  0.0672, -0.4679,  0.1228],\n",
       "        [ 1.5452,  0.1659, -1.3073,  1.0575],\n",
       "        [ 0.3315,  0.1682, -1.0220,  1.2099],\n",
       "        [ 0.0991, -0.0369,  0.3381, -0.4995]], dtype=torch.float64)"
      ]
     },
     "execution_count": 7,
     "metadata": {},
     "output_type": "execute_result"
    }
   ],
   "source": [
    "get_cos_sim(A, B)"
   ]
  },
  {
   "cell_type": "markdown",
   "id": "00c5d127",
   "metadata": {},
   "source": [
    "### task 3"
   ]
  },
  {
   "cell_type": "code",
   "execution_count": 8,
   "id": "0a109d8b",
   "metadata": {},
   "outputs": [],
   "source": [
    "from torch import nn \n",
    "from torch import optim\n",
    "import torchvision.transforms as transforms\n",
    "import matplotlib.pyplot as plt ### воспользуемся для отображения изображения\n",
    "%matplotlib inline\n",
    "import torch, torchvision\n",
    "import torch.nn.functional as F\n",
    "import pandas as pd"
   ]
  },
  {
   "cell_type": "code",
   "execution_count": 9,
   "id": "2d8608c8",
   "metadata": {},
   "outputs": [],
   "source": [
    "import os\n",
    "os.environ['KMP_DUPLICATE_LIB_OK']='True'"
   ]
  },
  {
   "cell_type": "code",
   "execution_count": 10,
   "id": "3d7c7860",
   "metadata": {},
   "outputs": [
    {
     "name": "stdout",
     "output_type": "stream",
     "text": [
      "torch.Size([1, 28, 28])\n",
      "9\n"
     ]
    }
   ],
   "source": [
    "train_dataset = torchvision.datasets.FashionMNIST(root='',\n",
    "                                             train=True,  \n",
    "                                             transform=transforms.ToTensor(), \n",
    "                                             download=True)\n",
    "train_loader = torch.utils.data.DataLoader(dataset=train_dataset,\n",
    "                                           batch_size=64, \n",
    "                                           shuffle=True)\n",
    "\n",
    "\n",
    "image, label = train_dataset[0]\n",
    "print (image.size())\n",
    "print (label)"
   ]
  },
  {
   "cell_type": "code",
   "execution_count": 11,
   "id": "699189d5",
   "metadata": {},
   "outputs": [
    {
     "data": {
      "image/png": "[encoded data removed]",
      "text/plain": [
       "<Figure size 432x288 with 1 Axes>"
      ]
     },
     "metadata": {
      "needs_background": "light"
     },
     "output_type": "display_data"
    }
   ],
   "source": [
    "plt.imshow(image.permute(1, 2, 0).numpy())\n",
    "plt.show()"
   ]
  },
  {
   "cell_type": "code",
   "execution_count": 12,
   "id": "76cf7709",
   "metadata": {},
   "outputs": [],
   "source": [
    "test_dataset = torchvision.datasets.FashionMNIST(root='', train=False,\n",
    "                                       download=True, transform=transforms.ToTensor())\n",
    "test_loader = torch.utils.data.DataLoader(test_dataset, batch_size=4,\n",
    "                                         shuffle=False)"
   ]
  },
  {
   "cell_type": "code",
   "execution_count": 13,
   "id": "26012b18",
   "metadata": {},
   "outputs": [],
   "source": [
    "classes = ('Tshirt', 'Trouser', 'Pullover', 'Dress',\n",
    "           'Coat', 'Sandal', 'Shirt', 'Sneaker', 'Bag', 'AnkleBoot')"
   ]
  },
  {
   "cell_type": "code",
   "execution_count": 14,
   "id": "3a7df652",
   "metadata": {},
   "outputs": [],
   "source": [
    "device = torch.device(\"cuda:0\" if torch.cuda.is_available() else \"cpu\")\n",
    "# device = torch.device('cpu')"
   ]
  },
  {
   "cell_type": "code",
   "execution_count": 15,
   "id": "36e9e0a6",
   "metadata": {},
   "outputs": [],
   "source": [
    "class FashionCNN(nn.Module):\n",
    "    def __init__(self):\n",
    "        super().__init__()\n",
    "        \n",
    "        self.layer1 = nn.Sequential(\n",
    "                nn.Conv2d(in_channels=1, out_channels=8, kernel_size=3, padding=1),\n",
    "                nn.ReLU(),\n",
    "                nn.Conv2d(in_channels=8, out_channels=16, kernel_size=3, padding=1),\n",
    "                nn.ReLU(),\n",
    "                nn.MaxPool2d(kernel_size=2, stride=2)\n",
    "            )    \n",
    "\n",
    "        self.layer2 = nn.Sequential(\n",
    "                nn.Conv2d(in_channels=16, out_channels=32, kernel_size=3, padding=1),\n",
    "                nn.ReLU(),\n",
    "                nn.Conv2d(in_channels=32, out_channels=64, kernel_size=3, padding=1),\n",
    "                nn.ReLU(),\n",
    "                nn.MaxPool2d(kernel_size=2, stride=2)\n",
    "            ) \n",
    "        \n",
    "        \n",
    "        self.fc1 = nn.Linear(64 * 7 * 7, 600) #почему 7?\n",
    "        self.fc2 = nn.Linear(600, 120)\n",
    "        self.fc3 = nn.Linear(120, 10)\n",
    "\n",
    "    def forward(self, x):\n",
    "        \n",
    "        out = self.layer1(x)\n",
    "        out = self.layer2(out)\n",
    "        out = out.view(out.size(0), -1)\n",
    "        \n",
    "        out = self.fc1(out)\n",
    "        out = self.fc2(out)\n",
    "        out = self.fc3(out)\n",
    "        \n",
    "        return out\n",
    "    "
   ]
  },
  {
   "cell_type": "code",
   "execution_count": 16,
   "id": "e941b6c6",
   "metadata": {},
   "outputs": [],
   "source": [
    "PATH = 'base_model.pth'"
   ]
  },
  {
   "cell_type": "code",
   "execution_count": 17,
   "id": "7d9077f3",
   "metadata": {},
   "outputs": [
    {
     "name": "stdout",
     "output_type": "stream",
     "text": [
      "FashionCNN(\n",
      "  (layer1): Sequential(\n",
      "    (0): Conv2d(1, 8, kernel_size=(3, 3), stride=(1, 1), padding=(1, 1))\n",
      "    (1): ReLU()\n",
      "    (2): Conv2d(8, 16, kernel_size=(3, 3), stride=(1, 1), padding=(1, 1))\n",
      "    (3): ReLU()\n",
      "    (4): MaxPool2d(kernel_size=2, stride=2, padding=0, dilation=1, ceil_mode=False)\n",
      "  )\n",
      "  (layer2): Sequential(\n",
      "    (0): Conv2d(16, 32, kernel_size=(3, 3), stride=(1, 1), padding=(1, 1))\n",
      "    (1): ReLU()\n",
      "    (2): Conv2d(32, 64, kernel_size=(3, 3), stride=(1, 1), padding=(1, 1))\n",
      "    (3): ReLU()\n",
      "    (4): MaxPool2d(kernel_size=2, stride=2, padding=0, dilation=1, ceil_mode=False)\n",
      "  )\n",
      "  (fc1): Linear(in_features=3136, out_features=600, bias=True)\n",
      "  (fc2): Linear(in_features=600, out_features=120, bias=True)\n",
      "  (fc3): Linear(in_features=120, out_features=10, bias=True)\n",
      ")\n"
     ]
    }
   ],
   "source": [
    "base_net = FashionCNN().to(device)\n",
    "torch.save(base_net.state_dict(), PATH) #пригодится для сравнения результатов\n",
    "print(base_net)"
   ]
  },
  {
   "cell_type": "code",
   "execution_count": 18,
   "id": "c2ce8793",
   "metadata": {},
   "outputs": [
    {
     "data": {
      "text/plain": [
       "<All keys matched successfully>"
      ]
     },
     "execution_count": 18,
     "metadata": {},
     "output_type": "execute_result"
    }
   ],
   "source": [
    "net1 = FashionCNN().eval().to(device)\n",
    "net1.load_state_dict(torch.load(PATH))\n"
   ]
  },
  {
   "cell_type": "code",
   "execution_count": 19,
   "id": "65ec27cc",
   "metadata": {},
   "outputs": [],
   "source": [
    "criterion = nn.CrossEntropyLoss()\n",
    "optimizer = optim.SGD(net1.parameters(), lr=0.001, momentum=0.9)"
   ]
  },
  {
   "cell_type": "code",
   "execution_count": 20,
   "id": "1638a2b2",
   "metadata": {},
   "outputs": [
    {
     "name": "stdout",
     "output_type": "stream",
     "text": [
      "[1,     1] loss: 0.001\n",
      "[1,   301] loss: 0.345\n",
      "[1,   601] loss: 0.345\n",
      "[1,   901] loss: 0.344\n",
      "[2,     1] loss: 0.001\n",
      "[2,   301] loss: 0.260\n",
      "[2,   601] loss: 0.122\n",
      "[2,   901] loss: 0.110\n",
      "[3,     1] loss: 0.000\n",
      "[3,   301] loss: 0.099\n",
      "[3,   601] loss: 0.095\n",
      "[3,   901] loss: 0.091\n",
      "[4,     1] loss: 0.000\n",
      "[4,   301] loss: 0.087\n",
      "[4,   601] loss: 0.081\n",
      "[4,   901] loss: 0.079\n",
      "[5,     1] loss: 0.000\n",
      "[5,   301] loss: 0.077\n",
      "[5,   601] loss: 0.072\n",
      "[5,   901] loss: 0.072\n",
      "Training is finished!\n",
      "Wall time: 51.3 s\n"
     ]
    }
   ],
   "source": [
    "%%time\n",
    "\n",
    "net1.train()\n",
    "for epoch in range(5):  \n",
    "    running_loss = 0.0\n",
    "    for i, data in enumerate(train_loader, 0):\n",
    "        inputs, labels = data[0], data[1]\n",
    "        inputs, labels = inputs.to(device), labels.to(device)\n",
    "\n",
    "        # обнуляем градиент\n",
    "        optimizer.zero_grad()\n",
    "\n",
    "        outputs = net1(inputs)\n",
    "        loss = criterion(outputs, labels)\n",
    "        loss.backward()\n",
    "        optimizer.step()\n",
    "\n",
    "        # выводим статистику о процессе обучения\n",
    "        running_loss += loss.item()\n",
    "        if i % 300 == 0:    # печатаем каждые 300 mini-batches\n",
    "            print('[%d, %5d] loss: %.3f' %\n",
    "                  (epoch + 1, i + 1, running_loss / 2000))\n",
    "            running_loss = 0.0\n",
    "\n",
    "print('Training is finished!')"
   ]
  },
  {
   "cell_type": "code",
   "execution_count": 21,
   "id": "db5d30fa",
   "metadata": {},
   "outputs": [],
   "source": [
    "def calc_accuracy(model):\n",
    "    correct = 0\n",
    "    total = 0\n",
    "    # since we're not training, we don't need to calculate the gradients for our outputs\n",
    "    with torch.no_grad():\n",
    "        for data in test_loader:\n",
    "            images, labels = data\n",
    "            images, labels = images.to(device), labels.to(device)\n",
    "            # calculate outputs by running images through the network\n",
    "            outputs = model(images)\n",
    "            # the class with the highest energy is what we choose as prediction\n",
    "            _, predicted = torch.max(outputs.data, 1)\n",
    "            total += labels.size(0)\n",
    "            correct += (predicted == labels).sum().item()\n",
    "    return correct / total\n"
   ]
  },
  {
   "cell_type": "code",
   "execution_count": 22,
   "id": "c0ab11a0",
   "metadata": {},
   "outputs": [],
   "source": [
    "res = {}\n",
    "res['SGD'] = calc_accuracy(net1)"
   ]
  },
  {
   "cell_type": "code",
   "execution_count": 23,
   "id": "34a4a501",
   "metadata": {},
   "outputs": [
    {
     "data": {
      "text/html": [
       "<div>\n",
       "<style scoped>\n",
       "    .dataframe tbody tr th:only-of-type {\n",
       "        vertical-align: middle;\n",
       "    }\n",
       "\n",
       "    .dataframe tbody tr th {\n",
       "        vertical-align: top;\n",
       "    }\n",
       "\n",
       "    .dataframe thead th {\n",
       "        text-align: right;\n",
       "    }\n",
       "</style>\n",
       "<table border=\"1\" class=\"dataframe\">\n",
       "  <thead>\n",
       "    <tr style=\"text-align: right;\">\n",
       "      <th></th>\n",
       "      <th>acc_test</th>\n",
       "    </tr>\n",
       "  </thead>\n",
       "  <tbody>\n",
       "    <tr>\n",
       "      <th>SGD</th>\n",
       "      <td>0.8161</td>\n",
       "    </tr>\n",
       "  </tbody>\n",
       "</table>\n",
       "</div>"
      ],
      "text/plain": [
       "     acc_test\n",
       "SGD    0.8161"
      ]
     },
     "execution_count": 23,
     "metadata": {},
     "output_type": "execute_result"
    }
   ],
   "source": [
    "pd.DataFrame.from_dict(res, orient='index', columns = ['acc_test'])"
   ]
  },
  {
   "cell_type": "markdown",
   "id": "dea5ea2d",
   "metadata": {},
   "source": [
    "### optimizers"
   ]
  },
  {
   "cell_type": "code",
   "execution_count": 24,
   "id": "00f7db41",
   "metadata": {},
   "outputs": [
    {
     "name": "stdout",
     "output_type": "stream",
     "text": [
      "[1,     1] loss: 0.001\n",
      "[1,   301] loss: 0.129\n",
      "[1,   601] loss: 0.098\n",
      "[1,   901] loss: 0.089\n",
      "[2,     1] loss: 0.000\n",
      "[2,   301] loss: 0.084\n",
      "[2,   601] loss: 0.081\n",
      "[2,   901] loss: 0.076\n",
      "[3,     1] loss: 0.000\n",
      "[3,   301] loss: 0.074\n",
      "[3,   601] loss: 0.074\n",
      "[3,   901] loss: 0.072\n",
      "[4,     1] loss: 0.000\n",
      "[4,   301] loss: 0.070\n",
      "[4,   601] loss: 0.068\n",
      "[4,   901] loss: 0.068\n",
      "[5,     1] loss: 0.000\n",
      "[5,   301] loss: 0.067\n",
      "[5,   601] loss: 0.066\n",
      "[5,   901] loss: 0.065\n",
      "Training is finished!\n"
     ]
    }
   ],
   "source": [
    "net2 = FashionCNN().eval().to(device)\n",
    "net2.load_state_dict(torch.load(PATH))\n",
    "\n",
    "    \n",
    "criterion2 = nn.CrossEntropyLoss()\n",
    "optimizer2 = optim.Adagrad(net2.parameters(), lr=0.001) \n",
    "\n",
    "net2.train()\n",
    "for epoch in range(5):  \n",
    "    running_loss = 0.0\n",
    "    for i, data in enumerate(train_loader, 0):\n",
    "        inputs, labels = data[0], data[1]\n",
    "        inputs, labels = inputs.to(device), labels.to(device)\n",
    "\n",
    "        # обнуляем градиент\n",
    "        optimizer2.zero_grad()\n",
    "\n",
    "        outputs = net2(inputs)\n",
    "        loss = criterion2(outputs, labels)\n",
    "        loss.backward()\n",
    "        optimizer2.step()\n",
    "\n",
    "        # выводим статистику о процессе обучения\n",
    "        running_loss += loss.item()\n",
    "        if i % 300 == 0:    # печатаем каждые 300 mini-batches\n",
    "            print('[%d, %5d] loss: %.3f' %\n",
    "                  (epoch + 1, i + 1, running_loss / 2000))\n",
    "            running_loss = 0.0\n",
    "\n",
    "print('Training is finished!')\n",
    "\n",
    "res['Adagrad'] = calc_accuracy(net2)"
   ]
  },
  {
   "cell_type": "code",
   "execution_count": 25,
   "id": "b7a3e0e8",
   "metadata": {},
   "outputs": [
    {
     "name": "stdout",
     "output_type": "stream",
     "text": [
      "[1,     1] loss: 0.001\n",
      "[1,   301] loss: 0.101\n",
      "[1,   601] loss: 0.057\n",
      "[1,   901] loss: 0.051\n",
      "[2,     1] loss: 0.000\n",
      "[2,   301] loss: 0.043\n",
      "[2,   601] loss: 0.041\n",
      "[2,   901] loss: 0.039\n",
      "[3,     1] loss: 0.000\n",
      "[3,   301] loss: 0.036\n",
      "[3,   601] loss: 0.035\n",
      "[3,   901] loss: 0.035\n",
      "[4,     1] loss: 0.000\n",
      "[4,   301] loss: 0.031\n",
      "[4,   601] loss: 0.032\n",
      "[4,   901] loss: 0.031\n",
      "[5,     1] loss: 0.000\n",
      "[5,   301] loss: 0.028\n",
      "[5,   601] loss: 0.029\n",
      "[5,   901] loss: 0.030\n",
      "Training is finished!\n"
     ]
    }
   ],
   "source": [
    "net3 = FashionCNN().eval().to(device)\n",
    "net3.load_state_dict(torch.load(PATH))\n",
    "    \n",
    "criterion3 = nn.CrossEntropyLoss()\n",
    "optimizer3 = optim.Adam(net3.parameters(), lr=0.001) \n",
    "\n",
    "net3.train()\n",
    "for epoch in range(5):  \n",
    "    running_loss = 0.0\n",
    "    for i, data in enumerate(train_loader, 0):\n",
    "        inputs, labels = data[0], data[1]\n",
    "        inputs, labels = inputs.to(device), labels.to(device)\n",
    "\n",
    "        # обнуляем градиент\n",
    "        optimizer3.zero_grad()\n",
    "\n",
    "        outputs = net3(inputs)\n",
    "        loss = criterion3(outputs, labels)\n",
    "        loss.backward()\n",
    "        optimizer3.step()\n",
    "\n",
    "        # выводим статистику о процессе обучения\n",
    "        running_loss += loss.item()\n",
    "        if i % 300 == 0:    # печатаем каждые 300 mini-batches\n",
    "            print('[%d, %5d] loss: %.3f' %\n",
    "                  (epoch + 1, i + 1, running_loss / 2000))\n",
    "            running_loss = 0.0\n",
    "\n",
    "print('Training is finished!')\n",
    "\n",
    "res['Adam'] = calc_accuracy(net3)"
   ]
  },
  {
   "cell_type": "code",
   "execution_count": 26,
   "id": "4a5de855",
   "metadata": {},
   "outputs": [
    {
     "data": {
      "text/html": [
       "<div>\n",
       "<style scoped>\n",
       "    .dataframe tbody tr th:only-of-type {\n",
       "        vertical-align: middle;\n",
       "    }\n",
       "\n",
       "    .dataframe tbody tr th {\n",
       "        vertical-align: top;\n",
       "    }\n",
       "\n",
       "    .dataframe thead th {\n",
       "        text-align: right;\n",
       "    }\n",
       "</style>\n",
       "<table border=\"1\" class=\"dataframe\">\n",
       "  <thead>\n",
       "    <tr style=\"text-align: right;\">\n",
       "      <th></th>\n",
       "      <th>acc_test</th>\n",
       "    </tr>\n",
       "  </thead>\n",
       "  <tbody>\n",
       "    <tr>\n",
       "      <th>SGD</th>\n",
       "      <td>0.8161</td>\n",
       "    </tr>\n",
       "    <tr>\n",
       "      <th>Adagrad</th>\n",
       "      <td>0.8352</td>\n",
       "    </tr>\n",
       "    <tr>\n",
       "      <th>Adam</th>\n",
       "      <td>0.9125</td>\n",
       "    </tr>\n",
       "  </tbody>\n",
       "</table>\n",
       "</div>"
      ],
      "text/plain": [
       "         acc_test\n",
       "SGD        0.8161\n",
       "Adagrad    0.8352\n",
       "Adam       0.9125"
      ]
     },
     "execution_count": 26,
     "metadata": {},
     "output_type": "execute_result"
    }
   ],
   "source": [
    "pd.DataFrame.from_dict(res, orient='index', columns = ['acc_test'])"
   ]
  },
  {
   "cell_type": "markdown",
   "id": "75cb2b5e",
   "metadata": {},
   "source": [
    "Adam дает более высокий результат на тесте"
   ]
  },
  {
   "cell_type": "markdown",
   "id": "3b5d12fb",
   "metadata": {},
   "source": [
    "### predictions"
   ]
  },
  {
   "cell_type": "code",
   "execution_count": 27,
   "id": "d2603910",
   "metadata": {},
   "outputs": [],
   "source": [
    "data_iter = iter(test_loader)\n",
    "images, labels = data_iter.next()\n",
    "images, labels = images.to(device), labels.to(device)"
   ]
  },
  {
   "cell_type": "code",
   "execution_count": 28,
   "id": "e6dbb4e3",
   "metadata": {},
   "outputs": [
    {
     "data": {
      "image/png": "[encoded data removed]",
      "text/plain": [
       "<Figure size 432x288 with 1 Axes>"
      ]
     },
     "metadata": {
      "needs_background": "light"
     },
     "output_type": "display_data"
    }
   ],
   "source": [
    "outputs = net3(images)\n",
    "imgs = torchvision.utils.make_grid(images)\n",
    "imgs.permute(1, 2, 0).cpu().numpy()\n",
    "\n",
    "plt.imshow(imgs.permute(1, 2, 0).cpu().numpy())\n",
    "plt.show()"
   ]
  },
  {
   "cell_type": "code",
   "execution_count": 29,
   "id": "bbdd4338",
   "metadata": {},
   "outputs": [
    {
     "name": "stdout",
     "output_type": "stream",
     "text": [
      "GroundTruth:  AnkleBoot Pullover Trouser Trouser\n",
      "Predicted:  AnkleBoot Pullover Trouser Trouser\n"
     ]
    }
   ],
   "source": [
    "print('GroundTruth: ', ' '.join('%5s' % classes[labels[j]] for j in range(4)))\n",
    "\n",
    "_, predicted = torch.max(outputs, 1)\n",
    "\n",
    "print('Predicted: ', ' '.join('%5s' % classes[predicted[j]]\n",
    "                              for j in range(4)))"
   ]
  }
 ],
 "metadata": {
  "kernelspec": {
   "display_name": "Python 3",
   "language": "python",
   "name": "python3"
  },
  "language_info": {
   "codemirror_mode": {
    "name": "ipython",
    "version": 3
   },
   "file_extension": ".py",
   "mimetype": "text/x-python",
   "name": "python",
   "nbconvert_exporter": "python",
   "pygments_lexer": "ipython3",
   "version": "3.7.9"
  }
 },
 "nbformat": 4,
 "nbformat_minor": 5
}
